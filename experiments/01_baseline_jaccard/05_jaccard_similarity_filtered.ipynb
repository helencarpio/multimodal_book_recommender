{
 "cells": [
  {
   "cell_type": "code",
   "execution_count": 1,
   "id": "ed26c234",
   "metadata": {},
   "outputs": [],
   "source": [
    "# jaccard_similarity_filtered.py\n",
    "# Queremos quitar las stopwords\n",
    "\n",
    "import pandas as pd\n",
    "from sklearn.metrics import pairwise_distances\n",
    "from sklearn.preprocessing import MultiLabelBinarizer\n",
    "import matplotlib.pyplot as plt\n",
    "import seaborn as sns\n",
    "import os"
   ]
  },
  {
   "cell_type": "code",
   "execution_count": 3,
   "id": "72fcaa8d",
   "metadata": {},
   "outputs": [],
   "source": [
    "# Se agregaron para quitar las stopwords\n",
    "import nltk\n",
    "from nltk.corpus import stopwords"
   ]
  },
  {
   "cell_type": "code",
   "execution_count": 4,
   "id": "9c68452d",
   "metadata": {},
   "outputs": [
    {
     "name": "stderr",
     "output_type": "stream",
     "text": [
      "[nltk_data] Downloading package stopwords to\n",
      "[nltk_data]     C:\\Users\\tered\\AppData\\Roaming\\nltk_data...\n",
      "[nltk_data]   Unzipping corpora\\stopwords.zip.\n"
     ]
    }
   ],
   "source": [
    "# 1. Download stopwords\n",
    "nltk.download('stopwords')\n",
    "stop_words = set(stopwords.words('english'))"
   ]
  },
  {
   "cell_type": "code",
   "execution_count": 5,
   "id": "0f55298f",
   "metadata": {},
   "outputs": [
    {
     "name": "stdout",
     "output_type": "stream",
     "text": [
      "Total books loaded: 6810\n"
     ]
    }
   ],
   "source": [
    "# 2. Load cleaned CSV file (titles already cleaned)\n",
    "csv_path = r\"C:\\Users\\tered\\Desktop\\recommender_system\\data\\processed\\books_titles_clean.csv\"\n",
    "df = pd.read_csv(csv_path)\n",
    "\n",
    "# Optional: check how many titles are loaded\n",
    "print(f\"Total books loaded: {len(df)}\")"
   ]
  },
  {
   "cell_type": "code",
   "execution_count": 6,
   "id": "8a415d47",
   "metadata": {},
   "outputs": [],
   "source": [
    "# 3. Tokenize and remove stopwords\n",
    "df[\"tokens\"] = (\n",
    "    df[\"title\"]\n",
    "    .str.lower()\n",
    "    .str.replace(r\"[^a-z0-9 ]\", \"\", regex=True)\n",
    "    .str.split()\n",
    "    .apply(lambda tokens: [word for word in tokens if word not in stop_words])\n",
    ")"
   ]
  },
  {
   "cell_type": "code",
   "execution_count": 7,
   "id": "026950b1",
   "metadata": {},
   "outputs": [],
   "source": [
    "# 4. Convert token sets into a binary matrix (multi-hot encoding)\n",
    "mlb = MultiLabelBinarizer()\n",
    "binary_matrix = mlb.fit_transform(df[\"tokens\"])"
   ]
  },
  {
   "cell_type": "code",
   "execution_count": 8,
   "id": "4bc18306",
   "metadata": {},
   "outputs": [
    {
     "name": "stderr",
     "output_type": "stream",
     "text": [
      "c:\\Users\\tered\\AppData\\Local\\Programs\\Python\\Python313\\Lib\\site-packages\\sklearn\\metrics\\pairwise.py:2466: DataConversionWarning: Data was converted to boolean for metric jaccard\n",
      "  warnings.warn(msg, DataConversionWarning)\n"
     ]
    }
   ],
   "source": [
    "# 5. Compute Jaccard similarity (1 - Jaccard distance)\n",
    "jaccard_distances = pairwise_distances(binary_matrix, metric=\"jaccard\")\n",
    "jaccard_similarity = 1 - jaccard_distances\n",
    "\n",
    "# 6. Save similarity matrix to CSV\n",
    "output_dir = r\"C:\\Users\\tered\\Desktop\\recommender_system\\experiments\\01_baseline_jaccard\"\n",
    "os.makedirs(output_dir, exist_ok=True)\n",
    "pd.DataFrame(jaccard_similarity).to_csv(os.path.join(output_dir, \"results_stopwords_removed.csv\"), index=False)"
   ]
  },
  {
   "cell_type": "code",
   "execution_count": 9,
   "id": "0b0ab58d",
   "metadata": {},
   "outputs": [
    {
     "data": {
      "image/png": "[encoded data removed]",
      "text/plain": [
       "<Figure size 1200x1000 with 2 Axes>"
      ]
     },
     "metadata": {},
     "output_type": "display_data"
    }
   ],
   "source": [
    "# 7. Plot similarity heatmap for the first 20 titles\n",
    "plt.figure(figsize=(12, 10))\n",
    "sns.heatmap(jaccard_similarity[:20, :20], cmap=\"YlGnBu\", xticklabels=False, yticklabels=False)\n",
    "plt.title(\"Jaccard Similarity Heatmap (First 20 Titles)\")\n",
    "plot_path = os.path.join(output_dir, \"plots\")\n",
    "os.makedirs(plot_path, exist_ok=True)\n",
    "plt.savefig(os.path.join(plot_path, \"jaccard_heatmap.png\"))\n",
    "plt.show()"
   ]
  },
  {
   "cell_type": "code",
   "execution_count": 10,
   "id": "7ab2e683",
   "metadata": {},
   "outputs": [
    {
     "name": "stdout",
     "output_type": "stream",
     "text": [
      "Max similarity: 1.0\n",
      "Min similarity: 0.0\n",
      "Mean similarity: 0.0009575841934222383\n"
     ]
    }
   ],
   "source": [
    "import numpy as np\n",
    "print(\"Max similarity:\", np.max(jaccard_similarity))\n",
    "print(\"Min similarity:\", np.min(jaccard_similarity))\n",
    "print(\"Mean similarity:\", np.mean(jaccard_similarity))\n"
   ]
  }
 ],
 "metadata": {
  "kernelspec": {
   "display_name": "Python 3",
   "language": "python",
   "name": "python3"
  },
  "language_info": {
   "codemirror_mode": {
    "name": "ipython",
    "version": 3
   },
   "file_extension": ".py",
   "mimetype": "text/x-python",
   "name": "python",
   "nbconvert_exporter": "python",
   "pygments_lexer": "ipython3",
   "version": "3.13.3"
  }
 },
 "nbformat": 4,
 "nbformat_minor": 5
}
