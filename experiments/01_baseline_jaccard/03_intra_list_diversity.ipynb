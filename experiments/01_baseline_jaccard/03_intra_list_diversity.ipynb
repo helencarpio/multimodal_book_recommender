{
 "cells": [
  {
   "cell_type": "code",
   "execution_count": 1,
   "id": "2de3befb",
   "metadata": {},
   "outputs": [
    {
     "name": "stdout",
     "output_type": "stream",
     "text": [
      "Intra-list Diversity (ILD) for top-10 recommendations: 0.6667\n"
     ]
    }
   ],
   "source": [
    "import numpy as np\n",
    "import pandas as pd\n",
    "from itertools import combinations\n",
    "\n",
    "# Load similarity matrix and book list\n",
    "similarity_matrix = pd.read_csv(r\"C:\\Users\\tered\\Desktop\\recommender_system\\experiments\\01_baseline_jaccard\\results.csv\").values\n",
    "df_books = pd.read_csv(r\"C:\\Users\\tered\\Desktop\\recommender_system\\data\\processed\\books_titles_clean.csv\")\n",
    "\n",
    "# Choose target book index and get top-10 similar indices\n",
    "target_index = 5\n",
    "similarities = similarity_matrix[target_index]\n",
    "top_indices = np.argsort(similarities)[::-1][1:11]  # Exclude itself\n",
    "\n",
    "# Calculate ILD\n",
    "def compute_ild(indices, sim_matrix):\n",
    "    total_dissimilarity = 0\n",
    "    count = 0\n",
    "    for i, j in combinations(indices, 2):\n",
    "        sim = sim_matrix[i, j]\n",
    "        dissimilarity = 1 - sim\n",
    "        total_dissimilarity += dissimilarity\n",
    "        count += 1\n",
    "    return total_dissimilarity / count if count > 0 else 0\n",
    "\n",
    "ild = compute_ild(top_indices, similarity_matrix)\n",
    "print(f\"Intra-list Diversity (ILD) for top-10 recommendations: {ild:.4f}\")\n"
   ]
  }
 ],
 "metadata": {
  "kernelspec": {
   "display_name": "Python 3",
   "language": "python",
   "name": "python3"
  },
  "language_info": {
   "codemirror_mode": {
    "name": "ipython",
    "version": 3
   },
   "file_extension": ".py",
   "mimetype": "text/x-python",
   "name": "python",
   "nbconvert_exporter": "python",
   "pygments_lexer": "ipython3",
   "version": "3.13.3"
  }
 },
 "nbformat": 4,
 "nbformat_minor": 5
}
