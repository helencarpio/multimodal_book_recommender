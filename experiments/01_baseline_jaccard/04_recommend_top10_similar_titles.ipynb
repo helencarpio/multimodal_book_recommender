{
 "cells": [
  {
   "cell_type": "code",
   "execution_count": 1,
   "id": "a5e8697b",
   "metadata": {},
   "outputs": [
    {
     "name": "stdout",
     "output_type": "stream",
     "text": [
      "Top 10 recommendations for: 'The Problem of Pain'\n",
      "\n",
      "1. The Memory of Whiteness (Similarity: 0.333)\n",
      "2. Shadows of the Empire (Similarity: 0.333)\n",
      "3. Lord of the Flies (Similarity: 0.333)\n",
      "4. The Last of the Mohicans (Similarity: 0.333)\n",
      "5. The Virtues of Aging (Similarity: 0.333)\n",
      "6. The Analects of Confucius (Similarity: 0.333)\n",
      "7. Prince of the Blood (Similarity: 0.333)\n",
      "8. The Tale of Genji (Similarity: 0.333)\n",
      "9. Legacy of the Dead (Similarity: 0.333)\n",
      "10. The Grapes of Wrath (Similarity: 0.333)\n"
     ]
    }
   ],
   "source": [
    "import pandas as pd\n",
    "import numpy as np\n",
    "\n",
    "# Load the Jaccard similarity matrix\n",
    "similarity_matrix = pd.read_csv(r\"C:\\Users\\tered\\Desktop\\recommender_system\\experiments\\01_baseline_jaccard\\results.csv\").values\n",
    "\n",
    "# Load the original books dataframe (you need the titles for lookup)\n",
    "df_books = pd.read_csv(r\"C:\\Users\\tered\\Desktop\\recommender_system\\data\\processed\\books_titles_clean.csv\")\n",
    "\n",
    "# Choose the index of the target book (for example: index 5)\n",
    "target_index = 5\n",
    "target_title = df_books.iloc[target_index][\"title\"]\n",
    "\n",
    "# Get the similarity scores for the target book\n",
    "similarities = similarity_matrix[target_index]\n",
    "\n",
    "# Get indices of the top 10 most similar books (excluding the book itself)\n",
    "top_indices = np.argsort(similarities)[::-1][1:11]  # Exclude self-similarity at [0]\n",
    "\n",
    "# Print recommendations\n",
    "print(f\"Top 10 recommendations for: '{target_title}'\\n\")\n",
    "for rank, idx in enumerate(top_indices, 1):\n",
    "    title = df_books.iloc[idx][\"title\"]\n",
    "    score = similarities[idx]\n",
    "    print(f\"{rank}. {title} (Similarity: {score:.3f})\")\n"
   ]
  },
  {
   "cell_type": "code",
   "execution_count": 2,
   "id": "2677ec4e",
   "metadata": {},
   "outputs": [
    {
     "name": "stdout",
     "output_type": "stream",
     "text": [
      "Top 10 recommendations for: 'The Problem of Pain' (index: 5)\n",
      "\n",
      "1. [Index 1572] The Memory of Whiteness (Similarity: 0.333)\n",
      "2. [Index 3513] Shadows of the Empire (Similarity: 0.333)\n",
      "3. [Index 3581] Lord of the Flies (Similarity: 0.333)\n",
      "4. [Index 3576] The Last of the Mohicans (Similarity: 0.333)\n",
      "5. [Index 1822] The Virtues of Aging (Similarity: 0.333)\n",
      "6. [Index 1828] The Analects of Confucius (Similarity: 0.333)\n",
      "7. [Index 3556] Prince of the Blood (Similarity: 0.333)\n",
      "8. [Index 1061] The Tale of Genji (Similarity: 0.333)\n",
      "9. [Index 3538] Legacy of the Dead (Similarity: 0.333)\n",
      "10. [Index 1060] The Grapes of Wrath (Similarity: 0.333)\n"
     ]
    }
   ],
   "source": [
    "# Print recommendations\n",
    "print(f\"Top 10 recommendations for: '{target_title}' (index: {target_index})\\n\")\n",
    "for rank, idx in enumerate(top_indices, 1):\n",
    "    title = df_books.iloc[idx][\"title\"]\n",
    "    score = similarities[idx]\n",
    "    print(f\"{rank}. [Index {idx}] {title} (Similarity: {score:.3f})\")"
   ]
  }
 ],
 "metadata": {
  "kernelspec": {
   "display_name": "Python 3",
   "language": "python",
   "name": "python3"
  },
  "language_info": {
   "codemirror_mode": {
    "name": "ipython",
    "version": 3
   },
   "file_extension": ".py",
   "mimetype": "text/x-python",
   "name": "python",
   "nbconvert_exporter": "python",
   "pygments_lexer": "ipython3",
   "version": "3.13.3"
  }
 },
 "nbformat": 4,
 "nbformat_minor": 5
}
